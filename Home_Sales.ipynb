{
  "cells": [
    {
      "cell_type": "code",
      "execution_count": 1,
      "metadata": {
        "colab": {
          "base_uri": "https://localhost:8080/"
        },
        "id": "a_KW73O2e3dw",
        "outputId": "a33c7f44-f706-4405-d4ed-c6186f2e12a5"
      },
      "outputs": [
        {
          "name": "stdout",
          "output_type": "stream",
          "text": [
            "\r0% [Working]\r            \rHit:1 https://cloud.r-project.org/bin/linux/ubuntu jammy-cran40/ InRelease\n",
            "\r0% [Connecting to archive.ubuntu.com] [Waiting for headers] [Connecting to ppa.launchpadcontent.net \r                                                                                                    \rHit:2 https://developer.download.nvidia.com/compute/cuda/repos/ubuntu2204/x86_64  InRelease\n",
            "Hit:3 http://security.ubuntu.com/ubuntu jammy-security InRelease\n",
            "Hit:4 http://archive.ubuntu.com/ubuntu jammy InRelease\n",
            "Hit:5 http://archive.ubuntu.com/ubuntu jammy-updates InRelease\n",
            "Hit:6 http://archive.ubuntu.com/ubuntu jammy-backports InRelease\n",
            "Hit:7 https://ppa.launchpadcontent.net/c2d4u.team/c2d4u4.0+/ubuntu jammy InRelease\n",
            "Hit:8 https://ppa.launchpadcontent.net/deadsnakes/ppa/ubuntu jammy InRelease\n",
            "Hit:9 https://ppa.launchpadcontent.net/graphics-drivers/ppa/ubuntu jammy InRelease\n",
            "Hit:10 https://ppa.launchpadcontent.net/ubuntugis/ppa/ubuntu jammy InRelease\n",
            "Reading package lists... Done\n"
          ]
        }
      ],
      "source": [
        "import os\n",
        "# Find the latest version of spark 3.x  from http://www.apache.org/dist/spark/ and enter as the spark version\n",
        "# For example:\n",
        "# spark_version = 'spark-3.4.0'\n",
        "spark_version = 'spark-3.5.0'\n",
        "os.environ['SPARK_VERSION']=spark_version\n",
        "\n",
        "# Install Spark and Java\n",
        "!apt-get update\n",
        "!apt-get install openjdk-11-jdk-headless -qq > /dev/null\n",
        "!wget -q http://www.apache.org/dist/spark/$SPARK_VERSION/$SPARK_VERSION-bin-hadoop3.tgz\n",
        "!tar xf $SPARK_VERSION-bin-hadoop3.tgz\n",
        "!pip install -q findspark\n",
        "\n",
        "# Set Environment Variables\n",
        "os.environ[\"JAVA_HOME\"] = \"/usr/lib/jvm/java-11-openjdk-amd64\"\n",
        "os.environ[\"SPARK_HOME\"] = f\"/content/{spark_version}-bin-hadoop3\"\n",
        "\n",
        "# Start a SparkSession\n",
        "import findspark\n",
        "findspark.init()"
      ]
    },
    {
      "cell_type": "code",
      "execution_count": 2,
      "metadata": {
        "id": "2XbWNf1Te5fM"
      },
      "outputs": [],
      "source": [
        "# Import packages\n",
        "from pyspark.sql import SparkSession\n",
        "import time\n",
        "\n",
        "# Create a SparkSession\n",
        "spark = SparkSession.builder.appName(\"SparkSQL\").getOrCreate()"
      ]
    },
    {
      "cell_type": "code",
      "execution_count": 3,
      "metadata": {
        "id": "wOJqxG_RPSwp"
      },
      "outputs": [],
      "source": [
        "# 1. Read in the AWS S3 bucket into a DataFrame.\n",
        "from pyspark import SparkFiles\n",
        "url = \"https://2u-data-curriculum-team.s3.amazonaws.com/dataviz-classroom/v1.2/22-big-data/home_sales_revised.csv\"\n",
        "\n"
      ]
    },
    {
      "cell_type": "code",
      "execution_count": 4,
      "metadata": {
        "id": "RoljcJ7WPpnm"
      },
      "outputs": [],
      "source": [
        "# 2. Create a temporary view of the DataFrame.\n",
        "spark.sparkContext.addFile(url)\n",
        "df = spark.read.csv(\"file://\" + SparkFiles.get(\"home_sales_revised.csv\"), header=True, inferSchema=True)\n",
        "df.createOrReplaceTempView(\"home_sales\")\n"
      ]
    },
    {
      "cell_type": "code",
      "execution_count": 5,
      "metadata": {
        "colab": {
          "base_uri": "https://localhost:8080/"
        },
        "id": "L6fkwOeOmqvq",
        "outputId": "f27059b5-6fb9-44fb-caca-03c84149293a"
      },
      "outputs": [
        {
          "name": "stdout",
          "output_type": "stream",
          "text": [
            "+----------+---------+\n",
            "|sales_year|avg_price|\n",
            "+----------+---------+\n",
            "|      2019| 300263.7|\n",
            "|      2020|298353.78|\n",
            "|      2021|301819.44|\n",
            "|      2022|296363.88|\n",
            "+----------+---------+\n",
            "\n"
          ]
        }
      ],
      "source": [
        "# 3. What is the average price for a four bedroom house sold in each year rounded to two decimal places?\n",
        "result = spark.sql(\"\"\"\n",
        "    SELECT\n",
        "        year(date) as sales_year,\n",
        "        ROUND(AVG(price), 2) as avg_price\n",
        "    FROM\n",
        "        home_sales\n",
        "    WHERE\n",
        "        bedrooms = 4\n",
        "    GROUP BY\n",
        "        sales_year\n",
        "    ORDER BY\n",
        "        sales_year\n",
        "\"\"\")\n",
        "\n",
        "result.show()\n"
      ]
    },
    {
      "cell_type": "code",
      "execution_count": 6,
      "metadata": {
        "colab": {
          "base_uri": "https://localhost:8080/"
        },
        "id": "l8p_tUS8h8it",
        "outputId": "f3cfddda-4937-4fb2-dd34-bd45b2bdf507"
      },
      "outputs": [
        {
          "name": "stdout",
          "output_type": "stream",
          "text": [
            "+-----------------+---------+\n",
            "|construction_year|avg_price|\n",
            "+-----------------+---------+\n",
            "|             2010|292859.62|\n",
            "|             2011|291117.47|\n",
            "|             2012|293683.19|\n",
            "|             2013|295962.27|\n",
            "|             2014|290852.27|\n",
            "|             2015| 288770.3|\n",
            "|             2016|290555.07|\n",
            "|             2017|292676.79|\n",
            "+-----------------+---------+\n",
            "\n"
          ]
        }
      ],
      "source": [
        "# 4. What is the average price of a home for each year the home was built that have 3 bedrooms and 3 bathrooms rounded to two decimal places?\n",
        "result = spark.sql(\"\"\"\n",
        "    SELECT\n",
        "        date_built as construction_year,\n",
        "        ROUND(AVG(price), 2) as avg_price\n",
        "    FROM\n",
        "        home_sales\n",
        "    WHERE\n",
        "        bedrooms = 3 AND bathrooms = 3\n",
        "    GROUP BY\n",
        "        construction_year\n",
        "    ORDER BY\n",
        "        construction_year\n",
        "\"\"\")\n",
        "\n",
        "result.show()\n"
      ]
    },
    {
      "cell_type": "code",
      "execution_count": 7,
      "metadata": {
        "colab": {
          "base_uri": "https://localhost:8080/"
        },
        "id": "Y-Eytz64liDU",
        "outputId": "8bf38036-8da2-465b-a84c-0560f7888cd6"
      },
      "outputs": [
        {
          "name": "stdout",
          "output_type": "stream",
          "text": [
            "+-----------------+---------+\n",
            "|construction_year|avg_price|\n",
            "+-----------------+---------+\n",
            "|             2010|285010.22|\n",
            "|             2011|276553.81|\n",
            "|             2012|307539.97|\n",
            "|             2013|303676.79|\n",
            "|             2014|298264.72|\n",
            "|             2015|297609.97|\n",
            "|             2016| 293965.1|\n",
            "|             2017|280317.58|\n",
            "+-----------------+---------+\n",
            "\n"
          ]
        }
      ],
      "source": [
        "# 5. What is the average price of a home for each year built that have 3 bedrooms, 3 bathrooms, with two floors,\n",
        "# and are greater than or equal to 2,000 square feet rounded to two decimal places?\n",
        "result = spark.sql(\"\"\"\n",
        "    SELECT\n",
        "        date_built as construction_year,\n",
        "        ROUND(AVG(price), 2) as avg_price\n",
        "    FROM\n",
        "        home_sales\n",
        "    WHERE\n",
        "        bedrooms = 3 AND\n",
        "        bathrooms = 3 AND\n",
        "        floors = 2 AND\n",
        "        sqft_living >= 2000\n",
        "    GROUP BY\n",
        "        construction_year\n",
        "    ORDER BY\n",
        "        construction_year\n",
        "\"\"\")\n",
        "\n",
        "\n",
        "result.show()\n"
      ]
    },
    {
      "cell_type": "code",
      "execution_count": 8,
      "metadata": {
        "colab": {
          "base_uri": "https://localhost:8080/"
        },
        "id": "GUrfgOX1pCRd",
        "outputId": "b8015bd6-69f0-4fae-a2df-eb2647e23b95"
      },
      "outputs": [
        {
          "name": "stdout",
          "output_type": "stream",
          "text": [
            "+----+---------+\n",
            "|view|avg_price|\n",
            "+----+---------+\n",
            "|   0|403848.51|\n",
            "|   1|401044.25|\n",
            "|   2|397389.25|\n",
            "|   3| 398867.6|\n",
            "|   4|399631.89|\n",
            "|   5|401471.82|\n",
            "|   6|395655.38|\n",
            "|   7|403005.77|\n",
            "|   8|398592.71|\n",
            "|   9|401393.34|\n",
            "|  10|401868.43|\n",
            "|  11|399548.12|\n",
            "|  12|401501.32|\n",
            "|  13|398917.98|\n",
            "|  14|398570.03|\n",
            "|  15| 404673.3|\n",
            "|  16|399586.53|\n",
            "|  17|398474.49|\n",
            "|  18|399332.91|\n",
            "|  19|398953.17|\n",
            "+----+---------+\n",
            "only showing top 20 rows\n",
            "\n",
            "--- 0.8920755386352539 seconds ---\n"
          ]
        }
      ],
      "source": [
        "# 6. What is the \"view\" rating for the average price of a home, rounded to two decimal places, where the homes are greater than\n",
        "# or equal to $350,000? Although this is a small dataset, determine the run time for this query.\n",
        "\n",
        "start_time = time.time()\n",
        "\n",
        "result = spark.sql(\"\"\"\n",
        "    SELECT\n",
        "        view,\n",
        "        ROUND(AVG(price), 2) as avg_price\n",
        "    FROM\n",
        "        home_sales\n",
        "    WHERE\n",
        "        price >= 350000\n",
        "    GROUP BY\n",
        "        view\n",
        "    ORDER BY\n",
        "        view\n",
        "\"\"\")\n",
        "\n",
        "result.show()\n",
        "\n",
        "\n",
        "print(\"--- %s seconds ---\" % (time.time() - start_time))"
      ]
    },
    {
      "cell_type": "code",
      "execution_count": 9,
      "metadata": {
        "colab": {
          "base_uri": "https://localhost:8080/"
        },
        "id": "KAhk3ZD2tFy8",
        "outputId": "a7605209-e019-4f3d-bffc-d5068342fb8d"
      },
      "outputs": [
        {
          "data": {
            "text/plain": [
              "DataFrame[id: string, date: date, date_built: int, price: int, bedrooms: int, bathrooms: int, sqft_living: int, sqft_lot: int, floors: int, waterfront: int, view: int]"
            ]
          },
          "execution_count": 9,
          "metadata": {},
          "output_type": "execute_result"
        }
      ],
      "source": [
        "# 7. Cache the the temporary table home_sales.\n",
        "spark.table(\"home_sales\").cache()"
      ]
    },
    {
      "cell_type": "code",
      "execution_count": 10,
      "metadata": {
        "colab": {
          "base_uri": "https://localhost:8080/"
        },
        "id": "4opVhbvxtL-i",
        "outputId": "ad24c925-42f2-46ca-ceef-baea67189821"
      },
      "outputs": [
        {
          "data": {
            "text/plain": [
              "True"
            ]
          },
          "execution_count": 10,
          "metadata": {},
          "output_type": "execute_result"
        }
      ],
      "source": [
        "# 8. Check if the table is cached.\n",
        "spark.catalog.isCached('home_sales')"
      ]
    },
    {
      "cell_type": "code",
      "execution_count": 11,
      "metadata": {
        "colab": {
          "base_uri": "https://localhost:8080/"
        },
        "id": "5GnL46lwTSEk",
        "outputId": "4ab84e32-96a6-4f55-d96c-01b0e2aa444e"
      },
      "outputs": [
        {
          "name": "stdout",
          "output_type": "stream",
          "text": [
            "+----+---------+\n",
            "|view|avg_price|\n",
            "+----+---------+\n",
            "|   0|403848.51|\n",
            "|   1|401044.25|\n",
            "|   2|397389.25|\n",
            "|   3| 398867.6|\n",
            "|   4|399631.89|\n",
            "|   5|401471.82|\n",
            "|   6|395655.38|\n",
            "|   7|403005.77|\n",
            "|   8|398592.71|\n",
            "|   9|401393.34|\n",
            "|  10|401868.43|\n",
            "|  11|399548.12|\n",
            "|  12|401501.32|\n",
            "|  13|398917.98|\n",
            "|  14|398570.03|\n",
            "|  15| 404673.3|\n",
            "|  16|399586.53|\n",
            "|  17|398474.49|\n",
            "|  18|399332.91|\n",
            "|  19|398953.17|\n",
            "+----+---------+\n",
            "only showing top 20 rows\n",
            "\n",
            "--- 2.1971487998962402 seconds ---\n"
          ]
        }
      ],
      "source": [
        "# 9. Using the cached data, run the query that filters out the view ratings with average price\n",
        "#  greater than or equal to $350,000. Determine the runtime and compare it to uncached runtime.\n",
        "\n",
        "start_time = time.time()\n",
        "\n",
        "result_cached = spark.sql(\"\"\"\n",
        "    SELECT\n",
        "        view,\n",
        "        ROUND(AVG(price), 2) as avg_price\n",
        "    FROM\n",
        "        home_sales\n",
        "    WHERE\n",
        "        price >= 350000\n",
        "    GROUP BY\n",
        "        view\n",
        "    ORDER BY\n",
        "        view\n",
        "\"\"\")\n",
        "\n",
        "result.show()\n",
        "\n",
        "print(\"--- %s seconds ---\" % (time.time() - start_time))\n"
      ]
    },
    {
      "cell_type": "code",
      "execution_count": 12,
      "metadata": {
        "id": "Qm12WN9isHBR"
      },
      "outputs": [],
      "source": [
        "# 10. Partition by the \"date_built\" field on the formatted parquet home sales data\n",
        "df.write.mode(\"overwrite\").partitionBy(\"date_built\").parquet(\"date_built_partition\")"
      ]
    },
    {
      "cell_type": "code",
      "execution_count": 13,
      "metadata": {
        "colab": {
          "base_uri": "https://localhost:8080/"
        },
        "id": "AZ7BgY61sRqY",
        "outputId": "cf128886-9b6e-42b7-a65f-6c3d5bf8ce1e"
      },
      "outputs": [
        {
          "name": "stdout",
          "output_type": "stream",
          "text": [
            "+--------------------+----------+------+--------+---------+-----------+--------+------+----------+----+----------+\n",
            "|                  id|      date| price|bedrooms|bathrooms|sqft_living|sqft_lot|floors|waterfront|view|date_built|\n",
            "+--------------------+----------+------+--------+---------+-----------+--------+------+----------+----+----------+\n",
            "|2ed8d509-7372-46d...|2021-08-06|258710|       3|        3|       1918|    9666|     1|         0|  25|      2015|\n",
            "|941bad30-eb49-4a7...|2020-05-09|229896|       3|        3|       2197|    8641|     1|         0|   3|      2015|\n",
            "|c797ca12-52cd-4b1...|2019-06-08|288650|       2|        3|       2100|   10419|     2|         0|   7|      2015|\n",
            "|0cfe57f3-28c2-472...|2019-10-04|308313|       3|        3|       1960|    9453|     2|         0|   2|      2015|\n",
            "|d715f295-2fbf-4e9...|2021-05-17|391574|       3|        2|       1635|    8040|     2|         0|  10|      2015|\n",
            "|a18515a2-86f3-46b...|2022-02-18|419543|       3|        2|       1642|   12826|     2|         0|  24|      2015|\n",
            "|98f6a9ad-8870-474...|2022-05-07|136752|       2|        3|       1701|   10771|     2|         0|   5|      2015|\n",
            "|7ac67498-b6f3-403...|2021-05-12|349318|       4|        3|       2417|   11304|     2|         0|  37|      2015|\n",
            "|c9bfdb1c-2499-4e3...|2021-12-07|268874|       2|        2|       1537|   12177|     1|         0|  10|      2015|\n",
            "|34c31a34-220d-469...|2019-02-06|409011|       3|        3|       2356|   10507|     1|         0|   1|      2015|\n",
            "|be0ccb95-415d-411...|2020-05-15|425154|       4|        3|       2120|   14229|     2|         0|   4|      2015|\n",
            "|e9031a86-1294-444...|2021-10-09|222322|       4|        3|       1928|   10510|     1|         0|  38|      2015|\n",
            "|e6d7c2a7-596e-4ec...|2019-03-15|131201|       4|        3|       1633|   14655|     1|         0|  22|      2015|\n",
            "|6683714b-3df7-454...|2022-02-01|333403|       4|        2|       2059|    9793|     2|         0|   4|      2015|\n",
            "|00fc996f-508c-430...|2021-07-15|373139|       3|        3|       1763|   11363|     1|         0|  39|      2015|\n",
            "|3d5545f8-bd3b-476...|2020-09-19|797862|       4|        6|       3494|   10385|     2|         0|  90|      2015|\n",
            "|ec6d357c-2435-43e...|2019-05-28|401792|       3|        2|       1627|   10765|     1|         0|  50|      2015|\n",
            "|c2be38fb-814a-403...|2020-03-20|352237|       3|        3|       2485|   10954|     2|         0|   6|      2015|\n",
            "|9570de1f-5a74-45b...|2021-11-29|298453|       3|        2|       2222|   10634|     1|         0|   6|      2015|\n",
            "|1baeff4f-fc00-489...|2020-12-17|152775|       3|        2|       1623|   13851|     1|         0|  41|      2015|\n",
            "+--------------------+----------+------+--------+---------+-----------+--------+------+----------+----+----------+\n",
            "only showing top 20 rows\n",
            "\n"
          ]
        }
      ],
      "source": [
        "# 11. Read the parquet formatted data.\n",
        "partitioned_df = spark.read.parquet(\"date_built_partition\")\n",
        "partitioned_df.show()"
      ]
    },
    {
      "cell_type": "code",
      "execution_count": 14,
      "metadata": {
        "id": "J6MJkHfvVcvh"
      },
      "outputs": [],
      "source": [
        "# 12. Create a temporary table for the parquet data.\n",
        "partitioned_df.createOrReplaceTempView(\"parquet_data\")"
      ]
    },
    {
      "cell_type": "code",
      "execution_count": 15,
      "metadata": {
        "colab": {
          "base_uri": "https://localhost:8080/"
        },
        "id": "G_Vhb52rU1Sn",
        "outputId": "10d58489-7640-4dd7-8d73-c5d4f347831d"
      },
      "outputs": [
        {
          "name": "stdout",
          "output_type": "stream",
          "text": [
            "+----+---------+\n",
            "|view|avg_price|\n",
            "+----+---------+\n",
            "|   0|403848.51|\n",
            "|   1|401044.25|\n",
            "|   2|397389.25|\n",
            "|   3| 398867.6|\n",
            "|   4|399631.89|\n",
            "|   5|401471.82|\n",
            "|   6|395655.38|\n",
            "|   7|403005.77|\n",
            "|   8|398592.71|\n",
            "|   9|401393.34|\n",
            "|  10|401868.43|\n",
            "|  11|399548.12|\n",
            "|  12|401501.32|\n",
            "|  13|398917.98|\n",
            "|  14|398570.03|\n",
            "|  15| 404673.3|\n",
            "|  16|399586.53|\n",
            "|  17|398474.49|\n",
            "|  18|399332.91|\n",
            "|  19|398953.17|\n",
            "+----+---------+\n",
            "only showing top 20 rows\n",
            "\n",
            "--- 1.2770411968231201 seconds ---\n"
          ]
        }
      ],
      "source": [
        "# 13. Run the query that filters out the view ratings with average price of greater than or equal to $350,000\n",
        "# with the parquet DataFrame. Round your average to two decimal places.\n",
        "# Determine the runtime and compare it to the cached version.\n",
        "\n",
        "start_time = time.time()\n",
        "\n",
        "result_parquet = spark.sql(\"\"\"\n",
        "    SELECT\n",
        "        view,\n",
        "        ROUND(AVG(price), 2) as avg_price\n",
        "    FROM\n",
        "        parquet_data\n",
        "    WHERE\n",
        "        price >= 350000\n",
        "    GROUP BY\n",
        "        view\n",
        "    ORDER BY\n",
        "        view\n",
        "\"\"\")\n",
        "\n",
        "result_parquet.show()\n",
        "\n",
        "\n",
        "\n",
        "print(\"--- %s seconds ---\" % (time.time() - start_time))"
      ]
    },
    {
      "cell_type": "code",
      "execution_count": 16,
      "metadata": {
        "colab": {
          "base_uri": "https://localhost:8080/"
        },
        "id": "hjjYzQGjtbq8",
        "outputId": "b232e214-17a1-460c-8fa4-07c230b6104d"
      },
      "outputs": [
        {
          "data": {
            "text/plain": [
              "DataFrame[]"
            ]
          },
          "execution_count": 16,
          "metadata": {},
          "output_type": "execute_result"
        }
      ],
      "source": [
        "# 14. Uncache the home_sales temporary table.\n",
        "spark.sql(\"uncache table home_sales\")"
      ]
    },
    {
      "cell_type": "code",
      "execution_count": 17,
      "metadata": {
        "colab": {
          "base_uri": "https://localhost:8080/"
        },
        "id": "Sy9NBvO7tlmm",
        "outputId": "24d98b70-ea7a-4a78-da5e-f283073b0c0f"
      },
      "outputs": [
        {
          "name": "stdout",
          "output_type": "stream",
          "text": [
            "clear\n"
          ]
        }
      ],
      "source": [
        "# 15. Check if the home_sales is no longer cached\n",
        "if spark.catalog.isCached(\"home_sales\"):\n",
        "  print(\"table is still cached\")\n",
        "else:\n",
        "  print(\"clear\")\n"
      ]
    },
    {
      "cell_type": "code",
      "execution_count": 17,
      "metadata": {
        "id": "Si-BNruRUGK3"
      },
      "outputs": [],
      "source": []
    }
  ],
  "metadata": {
    "colab": {
      "provenance": []
    },
    "gpuClass": "standard",
    "kernelspec": {
      "display_name": "Python 3 (ipykernel)",
      "language": "python",
      "name": "python3"
    },
    "language_info": {
      "codemirror_mode": {
        "name": "ipython",
        "version": 3
      },
      "file_extension": ".py",
      "mimetype": "text/x-python",
      "name": "python",
      "nbconvert_exporter": "python",
      "pygments_lexer": "ipython3",
      "version": "3.10.13"
    },
    "nteract": {
      "version": "0.28.0"
    }
  },
  "nbformat": 4,
  "nbformat_minor": 0
}
